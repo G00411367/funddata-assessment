{
 "cells": [
  {
   "cell_type": "markdown",
   "id": "b2243426",
   "metadata": {},
   "source": [
    "### Exercise 1"
   ]
  },
  {
   "cell_type": "markdown",
   "id": "b6e7fa63",
   "metadata": {},
   "source": [
    "Flipping 10 coins.  \n",
    "\n",
    "It is somewhat interesting that (5 * 4 * 3 * 2 * 1) perfectly divides (10 * 9 * 8 * 7 * 6) - there's no remainder.  \n",
    "\n",
    "If we only wanted exactly four heads as opposed to five, the equivalent calculation would be (10 * 9 * 8 * 7) / (4 * 3 * 2 * 1).\n",
    "\n",
    "Does that evenly divide too? What is the formula in general?\n",
    "\n",
    "Does it always come out as a positive whole number?"
   ]
  },
  {
   "cell_type": "code",
   "execution_count": 22,
   "id": "b31ebaf0",
   "metadata": {},
   "outputs": [
    {
     "data": {
      "text/plain": [
       "210.0"
      ]
     },
     "execution_count": 22,
     "metadata": {},
     "output_type": "execute_result"
    }
   ],
   "source": [
    "# Usisng true division test if (10 * 9 * 8 * 7) / (4 * 3 * 2 * 1) devides evenly\n",
    "(10 * 9 * 8 * 7) / (4 * 3 * 2 * 1)"
   ]
  },
  {
   "cell_type": "markdown",
   "id": "f3119576",
   "metadata": {},
   "source": [
    "Looking at (4 * 3 * 2 * 1) we can see that all the numbers are factors of (10 * 9 * 8 * 7)  \n",
    "Therefore (4 * 3 * 2 * 1) will devide into (10 * 9 * 8 * 7)"
   ]
  },
  {
   "cell_type": "markdown",
   "id": "13c7d05d",
   "metadata": {},
   "source": [
    "This exercise is an application of Combination without repetition formula  \n",
    "C(n,k) = n!/(k!*(n-k)!)  \n",
    "n = number of coins flip  \n",
    "k = number of heads  "
   ]
  },
  {
   "cell_type": "code",
   "execution_count": 28,
   "id": "d0a44427",
   "metadata": {},
   "outputs": [
    {
     "name": "stdout",
     "output_type": "stream",
     "text": [
      "210.0\n"
     ]
    }
   ],
   "source": [
    "import math\n",
    "# math.factorial(10)\n",
    "n = 10\n",
    "k = 4\n",
    "n_comb = math.factorial(n) / (math.factorial(n-k) * math.factorial(k))\n",
    "print(n_comb)"
   ]
  },
  {
   "cell_type": "markdown",
   "id": "a48c5ad1",
   "metadata": {},
   "source": [
    "In the formula above n, k are always positive whole numbers (combination, events)  \n",
    "Also k < = n, i.e you can't flip 2 coins(n) and get 4 heads\n",
    "\n",
    "Therefore the resust can only be a positive whole number"
   ]
  },
  {
   "cell_type": "markdown",
   "id": "9628ad23",
   "metadata": {},
   "source": [
    "#### References:\n",
    "https://www.mathsisfun.com/combinatorics/combinations-permutations.html  \n",
    "https://www.geeksforgeeks.org/factorial-in-python/  \n",
    "https://webpages.charlotte.edu/ghetyei/courses/old/S19.3166/pcv.pdf"
   ]
  },
  {
   "cell_type": "markdown",
   "id": "af040925",
   "metadata": {},
   "source": [
    "### Exercise 2"
   ]
  },
  {
   "cell_type": "markdown",
   "id": "64428d9b",
   "metadata": {},
   "source": [
    "Note that there are the same number of ways to get 4 tails as there to get 4 heads. Explain why this is."
   ]
  },
  {
   "cell_type": "markdown",
   "id": "2fb12f20",
   "metadata": {},
   "source": [
    "There is only 2 possible outcomes in flipping a coin: Head or Tail with the same cahnce of 50%.\n",
    "\n",
    "For this reason the number of ways in getting 4 tails is the same as getting 4 heads.  \n",
    "And continuing there is the same number of getting 3 heads as getting 3 tails, etc."
   ]
  },
  {
   "cell_type": "markdown",
   "id": "4766ead8",
   "metadata": {},
   "source": [
    "### Exercise 3 \n",
    "#### Plot bar charts or histograms of any three different distributions listed at the following link:\n",
    "https://numpy.org/doc/stable/reference/random/generator.html#distributions"
   ]
  },
  {
   "cell_type": "markdown",
   "id": "cd4e5409",
   "metadata": {},
   "source": [
    "### 1. Poisson Distribution"
   ]
  },
  {
   "cell_type": "markdown",
   "id": "9b58da27",
   "metadata": {},
   "source": [
    "A Poisson distribution is a discrete probability distribution.  \n",
    "It gives the probability of an event happening a certain number of times (k) within a given interval of time or space."
   ]
  },
  {
   "cell_type": "code",
   "execution_count": 1,
   "id": "5088fd52",
   "metadata": {},
   "outputs": [
    {
     "data": {
      "image/png": "[encoded data removed]",
      "text/plain": [
       "<Figure size 432x288 with 1 Axes>"
      ]
     },
     "metadata": {
      "needs_background": "light"
     },
     "output_type": "display_data"
    }
   ],
   "source": [
    "# In this exercise we study the probality of number of huricanes that can occur this year\n",
    "# Data model show historical frequesncy of huricanes of 7 per year\n",
    "# What is the probability of observing exactly 5 hurricanes this year\n",
    "\n",
    "# Frequency of huricanes per year\n",
    "fr = 7\n",
    "# Number of huricanes examined\n",
    "k = 17\n",
    "\n",
    "# importing poisson from scipy\n",
    "from scipy.stats import poisson\n",
    " \n",
    "# importing numpy as np\n",
    "import numpy as np\n",
    " \n",
    "# importing matplotlib as plt\n",
    "import matplotlib.pyplot as plt\n",
    "\n",
    "# create array for x \n",
    "x = np.arange(0, k, 1)\n",
    " \n",
    "# poisson distribution data for y-axis\n",
    "y = poisson.pmf(x, mu=fr)\n",
    " \n",
    "# plotting the graph\n",
    "plt.bar(x, y, color = \"blue\", width = 0.5,)\n",
    "plt.xlabel('k')\n",
    "plt.ylabel('Probability')\n",
    "\n",
    "# showing the graph\n",
    "plt.show()"
   ]
  },
  {
   "cell_type": "code",
   "execution_count": 2,
   "id": "2691e959",
   "metadata": {},
   "outputs": [
    {
     "name": "stdout",
     "output_type": "stream",
     "text": [
      "0.1277166682922895\n"
     ]
    }
   ],
   "source": [
    "# Probability of observing exactly 5 hurricanes this year\n",
    "prob5 = poisson.pmf(5, mu=fr)\n",
    "print(prob5)"
   ]
  },
  {
   "cell_type": "markdown",
   "id": "1267160d",
   "metadata": {},
   "source": [
    "### 2. Exponential Distribution"
   ]
  },
  {
   "cell_type": "markdown",
   "id": "0d59ee5a",
   "metadata": {},
   "source": [
    "The exponential is a continuous distribution and describes the waiting time between events"
   ]
  },
  {
   "cell_type": "code",
   "execution_count": 29,
   "id": "17202463",
   "metadata": {},
   "outputs": [
    {
     "data": {
      "image/png": "[encoded data removed]",
      "text/plain": [
       "<Figure size 432x288 with 1 Axes>"
      ]
     },
     "metadata": {
      "needs_background": "light"
     },
     "output_type": "display_data"
    }
   ],
   "source": [
    "# visualize the probability of time between customers coming in\n",
    "\n",
    "# event rate of customers coming in per unit time\n",
    "\n",
    "from numpy import random\n",
    "import matplotlib.pyplot as plt\n",
    "\n",
    "lam = 4 \n",
    "n_simulated = 1000000\n",
    "waiting_times = random.exponential(scale=lam, size=n_simulated)\n",
    "\n",
    "# Create a histogram\n",
    "\n",
    "plt.hist(waiting_times, bins = 100)\n",
    "plt.show()"
   ]
  },
  {
   "cell_type": "markdown",
   "id": "17c08cbf",
   "metadata": {},
   "source": [
    "#### 3. Power Distribution"
   ]
  },
  {
   "cell_type": "code",
   "execution_count": 53,
   "id": "5c248f50",
   "metadata": {},
   "outputs": [
    {
     "data": {
      "image/png": "[encoded data removed]",
      "text/plain": [
       "<Figure size 432x288 with 1 Axes>"
      ]
     },
     "metadata": {
      "needs_background": "light"
     },
     "output_type": "display_data"
    }
   ],
   "source": [
    "import numpy as np\n",
    "import matplotlib.pyplot as plt\n",
    "  \n",
    "# power\n",
    "a = 5\n",
    "# Samples \n",
    "samples = 100000\n",
    "s = np.random.power(a, samples)\n",
    "\n",
    "plt.figure()\n",
    "plt.hist(s, bins = 100, density = True)\n",
    "plt.show()"
   ]
  },
  {
   "cell_type": "markdown",
   "id": "44c102c9",
   "metadata": {},
   "source": [
    "#### References:\n",
    "https://www.scribbr.com/statistics/poisson-distribution/#:~:text=A%20Poisson%20distribution%20is%20a,the%20mean%20number%20of%20events.\n",
    "https://numpy.org/doc/stable/reference/random/generated/numpy.random.poisson.html\n",
    "https://www.geeksforgeeks.org/how-to-create-a-poisson-probability-mass-function-plot-in-python/\n",
    "https://www.statology.org/exponential-distribution-python/\n",
    "https://numpy.org/doc/stable/reference/random/generated/numpy.random.Generator.power.html#numpy.random.Generator.power\n"
   ]
  }
 ],
 "metadata": {
  "kernelspec": {
   "display_name": "Python 3 (ipykernel)",
   "language": "python",
   "name": "python3"
  },
  "language_info": {
   "codemirror_mode": {
    "name": "ipython",
    "version": 3
   },
   "file_extension": ".py",
   "mimetype": "text/x-python",
   "name": "python",
   "nbconvert_exporter": "python",
   "pygments_lexer": "ipython3",
   "version": "3.9.7"
  }
 },
 "nbformat": 4,
 "nbformat_minor": 5
}
