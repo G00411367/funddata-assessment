{
 "cells": [
  {
   "cell_type": "markdown",
   "id": "8cd5d7c8",
   "metadata": {},
   "source": [
    "### Exercise 1"
   ]
  },
  {
   "cell_type": "markdown",
   "id": "149ff2ae",
   "metadata": {},
   "source": [
    "Give three real-world examples of different types of cognitive bias"
   ]
  },
  {
   "cell_type": "markdown",
   "id": "672d9621",
   "metadata": {},
   "source": [
    "#### Example 1 - Burglaries on the news\n",
    "\n",
    "After hearing about a string of burglaries on the news, you might be extra cautious about locking the doors at night.\n",
    "\n",
    "This Cognitive Bias is known as the \"Availability heuristic\"\n",
    "\n",
    "The availability heuristic efect is the tendency to overestimate the likelihood of events with greater “availability” in memory, which can be influenced by how recent the memories are or how unusual or emotionally charged they may be."
   ]
  },
  {
   "cell_type": "markdown",
   "id": "db7600d1",
   "metadata": {},
   "source": [
    "#### Example 2 - Buying an Apple Watch despite a disinyterest in watches\n",
    "\n",
    "You might buy an Apple Watch, despite a disinterest in watches, because of positive experiences with your iPhone and MacBook.\n",
    "\n",
    "This Cognituve bias is known as the \"Halo effect\"\n",
    "\n",
    "The halo effect is the tendency for a person’s positive or negative traits to “spill over” from one personality area to another."
   ]
  },
  {
   "cell_type": "markdown",
   "id": "b0e7b5cc",
   "metadata": {},
   "source": [
    "#### Example 3 - Votting for the party that is doing well\n",
    "\n",
    "After seeing the recent polls you might be inclined to support this political party that is doing quite well\n",
    "\n",
    "This Cognitive bias is called the \"Bandwagon effect\"\n",
    "\n",
    "The bandwagon effect is a cognitive bias that causes people to think or act a certain way if they believe that others are doing the same."
   ]
  },
  {
   "cell_type": "markdown",
   "id": "4e07184b",
   "metadata": {},
   "source": [
    "### Exercise 2"
   ]
  },
  {
   "cell_type": "markdown",
   "id": "2bf7b2e4",
   "metadata": {},
   "source": [
    "Show that the difference between the standard deviation calculations is geater for small sizes"
   ]
  },
  {
   "cell_type": "code",
   "execution_count": 1,
   "id": "32aeb0ed",
   "metadata": {},
   "outputs": [],
   "source": [
    "# Numerical arrays\n",
    "import numpy as np\n",
    "\n",
    "# Plots\n",
    "import matplotlib.pyplot as plt"
   ]
  },
  {
   "cell_type": "code",
   "execution_count": 2,
   "id": "933aef55",
   "metadata": {},
   "outputs": [
    {
     "data": {
      "text/plain": [
       "array([[ 2.37839058, -0.99948454, -3.76159511,  7.18432123],\n",
       "       [ 6.53406869,  0.2650487 ,  5.93663343,  2.10434262],\n",
       "       [ 0.57448194,  2.77760105, -2.86599537,  4.87494446],\n",
       "       ...,\n",
       "       [-0.37560825, -5.54670952,  3.57634543,  0.38714411],\n",
       "       [-2.79352852,  0.88010797,  2.7569046 ,  2.72402486],\n",
       "       [-2.59785435, -0.12341201, -2.31552062,  4.2302214 ]])"
      ]
     },
     "execution_count": 2,
     "metadata": {},
     "output_type": "execute_result"
    }
   ],
   "source": [
    "# Generate a sample of 4 values 100000 times, standard deviation 3.0\n",
    "samples1 = np.random.normal(0.0, 3.0, (100000, 4))\n",
    "samples1"
   ]
  },
  {
   "cell_type": "code",
   "execution_count": 3,
   "id": "f4cc87c4",
   "metadata": {},
   "outputs": [
    {
     "data": {
      "text/plain": [
       "array([[ 3.57915356,  0.53368754,  3.17514404, ..., -0.6874297 ,\n",
       "         3.31957905, -3.18568518],\n",
       "       [ 9.46629755,  0.98732359,  2.13999007, ..., -2.49493321,\n",
       "        -0.22214805, -0.32441135],\n",
       "       [ 2.69200161,  0.23723532,  0.55210702, ..., -3.18972855,\n",
       "        -1.21853085,  0.49596347],\n",
       "       ...,\n",
       "       [-0.88969988,  1.27294752, -2.32147526, ..., -2.11980259,\n",
       "        -0.70722465, -0.68840309],\n",
       "       [ 1.31821011, -5.17810012,  3.22547234, ..., -4.74931661,\n",
       "         0.79959383, -0.58312516],\n",
       "       [-3.41795562,  1.60695379,  2.84645471, ..., -1.25934834,\n",
       "        -2.39067438, -0.42560921]])"
      ]
     },
     "execution_count": 3,
     "metadata": {},
     "output_type": "execute_result"
    }
   ],
   "source": [
    "# Generate a sample of 40 values 100000 times, standard deviation 3.0\n",
    "samples2 = np.random.normal(0.0, 3.0, (100000, 40))\n",
    "samples2"
   ]
  },
  {
   "cell_type": "code",
   "execution_count": 4,
   "id": "0222e0a4",
   "metadata": {},
   "outputs": [
    {
     "data": {
      "text/plain": [
       "array([4.08215208, 2.6162514 , 2.86526368, ..., 3.27444435, 2.25928341,\n",
       "       2.73211683])"
      ]
     },
     "execution_count": 4,
     "metadata": {},
     "output_type": "execute_result"
    }
   ],
   "source": [
    "# Calculate standard deviation\n",
    "stdev1 = samples1.std(axis=1)\n",
    "stdev1"
   ]
  },
  {
   "cell_type": "code",
   "execution_count": 5,
   "id": "ec560417",
   "metadata": {},
   "outputs": [
    {
     "data": {
      "text/plain": [
       "array([3.1460003 , 2.89586133, 2.61333868, ..., 2.2644904 , 2.59324812,\n",
       "       2.80429032])"
      ]
     },
     "execution_count": 5,
     "metadata": {},
     "output_type": "execute_result"
    }
   ],
   "source": [
    "# Calculate standard deviation\n",
    "stdev2 = samples2.std(axis=1)\n",
    "stdev2"
   ]
  },
  {
   "cell_type": "code",
   "execution_count": 6,
   "id": "ac963945",
   "metadata": {},
   "outputs": [
    {
     "data": {
      "image/png": "[encoded data removed]",
      "text/plain": [
       "<Figure size 864x432 with 1 Axes>"
      ]
     },
     "metadata": {
      "needs_background": "light"
     },
     "output_type": "display_data"
    }
   ],
   "source": [
    "# View the histograms of the above standard deviation calculation\n",
    "fig, ax = plt.subplots(figsize=(12, 6))\n",
    "\n",
    "# Plot histogram\n",
    "plt.hist(stdev1, bins=100)\n",
    "\n",
    "# Draw a verical line where the actual standard devistion is\n",
    "plt.axvline(x=3, color='red');"
   ]
  },
  {
   "cell_type": "code",
   "execution_count": 7,
   "id": "7933a771",
   "metadata": {},
   "outputs": [
    {
     "data": {
      "image/png": "[encoded data removed]",
      "text/plain": [
       "<Figure size 864x432 with 1 Axes>"
      ]
     },
     "metadata": {
      "needs_background": "light"
     },
     "output_type": "display_data"
    }
   ],
   "source": [
    "fig, ax = plt.subplots(figsize=(12, 6))\n",
    "\n",
    "# Plot histogram\n",
    "plt.hist(stdev2, bins=100)\n",
    "\n",
    "# Draw a verical line where the actual standard devistion is\n",
    "plt.axvline(x=3, color='red');"
   ]
  },
  {
   "cell_type": "markdown",
   "id": "c043b0c4",
   "metadata": {},
   "source": [
    "We can see from above histograms how the mean of the datasets gets very close to the defined standard deviation value of 3 by increasing sample size from 4 to 40."
   ]
  }
 ],
 "metadata": {
  "kernelspec": {
   "display_name": "Python 3 (ipykernel)",
   "language": "python",
   "name": "python3"
  },
  "language_info": {
   "codemirror_mode": {
    "name": "ipython",
    "version": 3
   },
   "file_extension": ".py",
   "mimetype": "text/x-python",
   "name": "python",
   "nbconvert_exporter": "python",
   "pygments_lexer": "ipython3",
   "version": "3.9.7"
  }
 },
 "nbformat": 4,
 "nbformat_minor": 5
}
