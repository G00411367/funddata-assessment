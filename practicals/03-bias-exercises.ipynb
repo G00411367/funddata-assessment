{
 "cells": [
  {
   "cell_type": "markdown",
   "id": "8cd5d7c8",
   "metadata": {},
   "source": [
    "### Exercise 1"
   ]
  },
  {
   "cell_type": "markdown",
   "id": "149ff2ae",
   "metadata": {},
   "source": [
    "Give three real-world examples of different types of cognitive bias"
   ]
  },
  {
   "cell_type": "markdown",
   "id": "672d9621",
   "metadata": {},
   "source": [
    "#### Example 1 - Burglaries on the news\n",
    "\n",
    "After hearing about a string of burglaries on the news, you might be extra cautious about locking the doors at night.\n",
    "\n",
    "This Cognitive Bias is known as the \"Availability heuristic\"\n",
    "\n",
    "The availability heuristic efect is the tendency to overestimate the likelihood of events with greater “availability” in memory, which can be influenced by how recent the memories are or how unusual or emotionally charged they may be."
   ]
  },
  {
   "cell_type": "markdown",
   "id": "db7600d1",
   "metadata": {},
   "source": [
    "#### Example 2 - Buying an Apple Watch despite a disinyterest in watches\n",
    "\n",
    "You might buy an Apple Watch, despite a disinterest in watches, because of positive experiences with your iPhone and MacBook.\n",
    "\n",
    "This Cognituve bias is known as the \"Halo effect\"\n",
    "\n",
    "The halo effect is the tendency for a person’s positive or negative traits to “spill over” from one personality area to another."
   ]
  },
  {
   "cell_type": "markdown",
   "id": "b0e7b5cc",
   "metadata": {},
   "source": [
    "#### Example 3 - Votting for the party that is doing well\n",
    "\n",
    "After seeing the recent polls you might be inclined to support this political party that is doing quite well\n",
    "\n",
    "This Cognitive bias is called the \"Bandwagon effect\"\n",
    "\n",
    "The bandwagon effect is a cognitive bias that causes people to think or act a certain way if they believe that others are doing the same."
   ]
  },
  {
   "cell_type": "markdown",
   "id": "4e07184b",
   "metadata": {},
   "source": [
    "### Exercise 2"
   ]
  },
  {
   "cell_type": "markdown",
   "id": "2bf7b2e4",
   "metadata": {},
   "source": [
    "Show that the difference between the standard deviation calculations is geater for small sizes"
   ]
  },
  {
   "cell_type": "code",
   "execution_count": 10,
   "id": "32aeb0ed",
   "metadata": {},
   "outputs": [],
   "source": [
    "# Numerical arrays\n",
    "import numpy as np\n",
    "\n",
    "# Plots\n",
    "import matplotlib.pyplot as plt"
   ]
  },
  {
   "cell_type": "code",
   "execution_count": 45,
   "id": "933aef55",
   "metadata": {},
   "outputs": [
    {
     "data": {
      "text/plain": [
       "array([[ 0.40780005,  1.03701178,  0.60705704, -4.80736254],\n",
       "       [ 0.91992165,  0.81617731, -2.75769614,  2.98051763],\n",
       "       [ 2.44402964, -0.55587944, -0.14186784, -0.69578764],\n",
       "       ...,\n",
       "       [-0.07817669,  0.7240811 ,  5.29097442, -1.71147062],\n",
       "       [ 0.23961433, -0.2594104 , -0.14154019,  3.14611969],\n",
       "       [-2.07638313, -5.47941759,  2.42247629, -2.8708914 ]])"
      ]
     },
     "execution_count": 45,
     "metadata": {},
     "output_type": "execute_result"
    }
   ],
   "source": [
    "# Generate a sample of 3 values 100000 times, standard deviation 3.0\n",
    "samples1 = np.random.normal(0.0, 3.0, (100000, 4))\n",
    "samples1"
   ]
  },
  {
   "cell_type": "code",
   "execution_count": 46,
   "id": "f4cc87c4",
   "metadata": {},
   "outputs": [
    {
     "data": {
      "text/plain": [
       "array([[-5.94160991, -4.91499805,  2.54634401, ...,  0.13362877,\n",
       "        -1.65106473,  4.82138223],\n",
       "       [-4.74470349, -4.27277812,  1.9472452 , ..., -0.9273261 ,\n",
       "         1.21869866,  3.01292805],\n",
       "       [-4.03327405,  4.19189456,  2.30135508, ..., -0.54276586,\n",
       "        -0.13957612,  2.59516469],\n",
       "       ...,\n",
       "       [ 2.3762909 ,  2.01443702, -3.92647874, ...,  1.53482621,\n",
       "        -4.05559358,  1.21219409],\n",
       "       [ 2.93069715, -2.87916916,  3.77590961, ..., -3.52281066,\n",
       "        -4.82199972, -2.41669415],\n",
       "       [ 1.8262571 , -5.04935907, -6.95704332, ...,  2.47852609,\n",
       "        -3.58616763, -3.9526797 ]])"
      ]
     },
     "execution_count": 46,
     "metadata": {},
     "output_type": "execute_result"
    }
   ],
   "source": [
    "# Generate a sample of 30 values 100000 times, standard deviation 3.0\n",
    "samples2 = np.random.normal(0.0, 3.0, (100000, 40))\n",
    "samples2"
   ]
  },
  {
   "cell_type": "code",
   "execution_count": 52,
   "id": "0222e0a4",
   "metadata": {},
   "outputs": [
    {
     "data": {
      "text/plain": [
       "array([2.38865866, 2.06406348, 1.27579827, ..., 2.59761565, 1.39781781,\n",
       "       2.84732002])"
      ]
     },
     "execution_count": 52,
     "metadata": {},
     "output_type": "execute_result"
    }
   ],
   "source": [
    "# Calculate standard deviation\n",
    "stdev1 = samples1.std(axis=1)\n",
    "stdev1"
   ]
  },
  {
   "cell_type": "code",
   "execution_count": 53,
   "id": "ec560417",
   "metadata": {},
   "outputs": [
    {
     "data": {
      "text/plain": [
       "array([3.1864305 , 2.64284125, 2.6583602 , ..., 3.30137197, 3.42557595,\n",
       "       3.02987457])"
      ]
     },
     "execution_count": 53,
     "metadata": {},
     "output_type": "execute_result"
    }
   ],
   "source": [
    "# Calculate standard deviation\n",
    "stdev2 = samples2.std(axis=1)\n",
    "stdev2"
   ]
  },
  {
   "cell_type": "code",
   "execution_count": 54,
   "id": "ac963945",
   "metadata": {},
   "outputs": [
    {
     "data": {
      "image/png": "[encoded data removed]",
      "text/plain": [
       "<Figure size 864x432 with 1 Axes>"
      ]
     },
     "metadata": {
      "needs_background": "light"
     },
     "output_type": "display_data"
    }
   ],
   "source": [
    "# View the histograms of the above standard deviation calculation\n",
    "fig, ax = plt.subplots(figsize=(12, 6))\n",
    "\n",
    "# Plot histogram\n",
    "plt.hist(stdev1, bins=100)\n",
    "\n",
    "# Draw a verical line where the actual standard devistion is\n",
    "plt.axvline(x=3, color='red');"
   ]
  },
  {
   "cell_type": "code",
   "execution_count": 55,
   "id": "7933a771",
   "metadata": {},
   "outputs": [
    {
     "data": {
      "image/png": "[encoded data removed]",
      "text/plain": [
       "<Figure size 864x432 with 1 Axes>"
      ]
     },
     "metadata": {
      "needs_background": "light"
     },
     "output_type": "display_data"
    }
   ],
   "source": [
    "fig, ax = plt.subplots(figsize=(12, 6))\n",
    "\n",
    "# Plot histogram\n",
    "plt.hist(stdev2, bins=100)\n",
    "\n",
    "# Draw a verical line where the actual standard devistion is\n",
    "plt.axvline(x=3, color='red');"
   ]
  },
  {
   "cell_type": "markdown",
   "id": "c043b0c4",
   "metadata": {},
   "source": [
    "We can see from above histograms how the mean of the datasets gets very close to the defined standard deviation value of 3 by increasing sample size from 4 to 40."
   ]
  }
 ],
 "metadata": {
  "kernelspec": {
   "display_name": "Python 3 (ipykernel)",
   "language": "python",
   "name": "python3"
  },
  "language_info": {
   "codemirror_mode": {
    "name": "ipython",
    "version": 3
   },
   "file_extension": ".py",
   "mimetype": "text/x-python",
   "name": "python",
   "nbconvert_exporter": "python",
   "pygments_lexer": "ipython3",
   "version": "3.9.7"
  }
 },
 "nbformat": 4,
 "nbformat_minor": 5
}
