{
 "cells": [
  {
   "cell_type": "markdown",
   "id": "8ea85162",
   "metadata": {},
   "source": [
    "## Exercise 1\n",
    "\n",
    "***"
   ]
  },
  {
   "cell_type": "markdown",
   "id": "29a4c8fd",
   "metadata": {},
   "source": [
    "Write a Python function to remove all non-alphanumeric characters from a string."
   ]
  },
  {
   "cell_type": "code",
   "execution_count": 1,
   "id": "3a09cd6a",
   "metadata": {},
   "outputs": [],
   "source": [
    "import re"
   ]
  },
  {
   "cell_type": "code",
   "execution_count": 32,
   "id": "40617a53",
   "metadata": {},
   "outputs": [
    {
     "name": "stdout",
     "output_type": "stream",
     "text": [
      "['Password', '2H', 'o', 'P', 'tz', 'a', '5', '8', 'f', 'o', 'o', '']\n",
      "Password2HoPtza58foo\n"
     ]
    }
   ],
   "source": [
    "# The string \n",
    "original = 'Password:2H o!P|tz.a$5?8^f o_o#'\n",
    "\n",
    "# The pattern/regular expression to use on the above string.\n",
    "pattern = r'[\\W_]'\n",
    "\n",
    "# Splits a string into substrings using a regular expression.\n",
    "resultlist = re.split(pattern, original)\n",
    "print(resultlist)\n",
    "result = ''.join(resultlist)\n",
    "print(result)"
   ]
  }
 ],
 "metadata": {
  "kernelspec": {
   "display_name": "Python 3 (ipykernel)",
   "language": "python",
   "name": "python3"
  },
  "language_info": {
   "codemirror_mode": {
    "name": "ipython",
    "version": 3
   },
   "file_extension": ".py",
   "mimetype": "text/x-python",
   "name": "python",
   "nbconvert_exporter": "python",
   "pygments_lexer": "ipython3",
   "version": "3.9.7"
  }
 },
 "nbformat": 4,
 "nbformat_minor": 5
}
