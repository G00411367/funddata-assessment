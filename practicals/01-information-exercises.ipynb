{
 "cells": [
  {
   "cell_type": "markdown",
   "id": "4766ead8",
   "metadata": {},
   "source": [
    "### Exercise 1 \n",
    "#### Adapt the code above to generate a 1000 character long string with weights based on the previous two characters."
   ]
  },
  {
   "cell_type": "code",
   "execution_count": null,
   "id": "5088fd52",
   "metadata": {},
   "outputs": [],
   "source": [
    "# Make HTTP requests for internet reqources.\n",
    "import urllib.request\n",
    "\n",
    "# The URL of a text version of Alice in Wonderland.\n",
    "book_url = 'https://www.gutenberg.org/files/11/11-0.txt'\n",
    "\n",
    "# Get the book.\n",
    "book = list(urllib.request.urlopen(book_url))\n",
    "\n",
    "# Decode the lines and strip line endings.\n",
    "book = [line.decode('utf-8-sig').strip() for line in book]\n",
    "\n",
    "# Get a sample paragraph - I looked for this by hand.\n",
    "paragraph = ' '.join(book[58:63])\n",
    "\n",
    "# Show the paragraph.\n",
    "print(paragraph)"
   ]
  },
  {
   "cell_type": "code",
   "execution_count": null,
   "id": "c0effcbc",
   "metadata": {},
   "outputs": [],
   "source": [
    "# Let's lower-case it.\n",
    "alice = paragraph.lower()\n",
    "\n",
    "# All letters and a space.\n",
    "chars = 'abcdefghijklmnopqrstuvwxyz '\n",
    "\n",
    "# And strip anything that is not a letter or space.\n",
    "alice = ''.join([c for c in alice if c in chars])\n",
    "\n",
    "# Show the paragraph now.\n",
    "print(alice)"
   ]
  },
  {
   "cell_type": "code",
   "execution_count": null,
   "id": "aa97d5f3",
   "metadata": {},
   "outputs": [],
   "source": [
    "# For doing (pseudo-)random things in Python.\n",
    "import random\n",
    "\n",
    "# Print a random character, for example.\n",
    "print(random.choice(chars))"
   ]
  },
  {
   "cell_type": "code",
   "execution_count": null,
   "id": "d2dc526d",
   "metadata": {},
   "outputs": [],
   "source": [
    "# Get the length of alice.\n",
    "N = len(alice)\n",
    "\n",
    "# Generate N random characters from chars.\n",
    "gener = random.choices(chars, k=N)\n",
    "\n",
    "# Join them together in a string.\n",
    "gener = ''.join(gener)\n",
    "\n",
    "# Print.\n",
    "print(gener)"
   ]
  },
  {
   "cell_type": "markdown",
   "id": "6c0ddf9e",
   "metadata": {},
   "source": [
    "#### Rebuild the string but weight the charachers by their proportions in Alice in Wonderland."
   ]
  },
  {
   "cell_type": "code",
   "execution_count": null,
   "id": "f09e334f",
   "metadata": {},
   "outputs": [],
   "source": [
    "# Get the whole book in one big string.\n",
    "sbook = ''.join(book[26:]).lower()\n",
    "\n",
    "# Create the weights - count the occurences of each character in the whole book.\n",
    "weights = [sbook.count(c) for c in chars]\n",
    "\n",
    "# Show the weights.\n",
    "weights"
   ]
  },
  {
   "cell_type": "code",
   "execution_count": null,
   "id": "98eed9d5",
   "metadata": {
    "scrolled": true
   },
   "outputs": [],
   "source": [
    "# Generate a string using those weights.\n",
    "wgenr = random.choices(chars, weights=weights, k=N)\n",
    "\n",
    "# Join them together in a string.\n",
    "wgenr = ''.join(wgenr)\n",
    "\n",
    "# Print.\n",
    "print(wgenr)"
   ]
  },
  {
   "cell_type": "markdown",
   "id": "dc9d8787",
   "metadata": {},
   "source": [
    "#### Include the previous character as part of the weighting system."
   ]
  },
  {
   "cell_type": "code",
   "execution_count": null,
   "id": "3cd9291f",
   "metadata": {},
   "outputs": [],
   "source": [
    "# Create the weights.\n",
    "twoghts = {c: {d: sbook.count(c + d) for d in chars} for c in chars}\n",
    "\n",
    "# Show the weights.\n",
    "twoghts"
   ]
  },
  {
   "cell_type": "markdown",
   "id": "4b94281c",
   "metadata": {},
   "source": [
    "#### We have to start with some letter, so let's just start with the most common letter\n"
   ]
  },
  {
   "cell_type": "code",
   "execution_count": null,
   "id": "ae7733ab",
   "metadata": {},
   "outputs": [],
   "source": [
    "# Loop through our character set.\n",
    "for i in range(len(chars)):\n",
    "    # Print the character and how many times it appears in Alice in Wonderland.\n",
    "    print(f'{chars[i]}: {weights[i]}')"
   ]
  },
  {
   "cell_type": "code",
   "execution_count": null,
   "id": "55ed72e6",
   "metadata": {},
   "outputs": [],
   "source": [
    "# Start with space.\n",
    "pairs = ' '\n",
    "\n",
    "# Do the following N-1 times.\n",
    "for i in range(1, N):\n",
    "    # Get the weights where the previous character is the last character in twos.\n",
    "    wt = twoghts[pairs[-1]]\n",
    "    # Turn wt into a list, ordered by chars.\n",
    "    wt = [wt[c] for c in chars]\n",
    "    # Randomly pick the next character using those weights.\n",
    "    nextc = random.choices(chars, weights=wt, k=1)[0]\n",
    "    # Append the character to twos.\n",
    "    pairs = pairs + nextc"
   ]
  },
  {
   "cell_type": "code",
   "execution_count": null,
   "id": "121f7e96",
   "metadata": {},
   "outputs": [],
   "source": [
    "pairs"
   ]
  },
  {
   "cell_type": "markdown",
   "id": "b7c67b14",
   "metadata": {},
   "source": [
    "#### Include the previous 2 characters as part of the weighting system"
   ]
  },
  {
   "cell_type": "code",
   "execution_count": null,
   "id": "2a459a6b",
   "metadata": {},
   "outputs": [],
   "source": [
    "# Create the weights\n",
    "weights3 = {c: {d: {e: sbook.count(c + d + e) for e in chars} for d in chars} for c in chars}\n",
    "\n",
    "# Show the weights.\n",
    "weights3"
   ]
  },
  {
   "cell_type": "code",
   "execution_count": null,
   "id": "e1b654db",
   "metadata": {},
   "outputs": [],
   "source": [
    "# Start with space.\n",
    "pairs = ' '\n",
    "\n",
    "#N = 1000\n",
    "\n",
    "# Do the following N-1 times.\n",
    "for i in range(1, N):\n",
    "    # Get the weights where the previous character is the last character in twos.\n",
    "    wt = weights3[pairs[-1]]\n",
    "    # Turn wt into a list, ordered by chars.\n",
    "    wt = [wt[c] for c in chars]\n",
    "    # Randomly pick the next character using those weights.\n",
    "    nextc = random.choices(chars, weights=wt, k=1)[0]\n",
    "    # Append the character to twos.\n",
    "    #pairs = pairs + next\n",
    "nextc"
   ]
  },
  {
   "cell_type": "code",
   "execution_count": null,
   "id": "1084aeff",
   "metadata": {},
   "outputs": [],
   "source": [
    "pairs"
   ]
  },
  {
   "cell_type": "markdown",
   "id": "7feb34a8",
   "metadata": {},
   "source": [
    "### Exercise 2 \n",
    "#### Explain why the log of zero is undefined."
   ]
  },
  {
   "cell_type": "markdown",
   "id": "95cd6bbe",
   "metadata": {},
   "source": [
    "The definition of logarithm is that the logarithm function is the inverse to the exponential function  \n",
    "For y = e<sup>x</sup>  this means log(y) = x  \n",
    "So, for log(0) the ecuation e<sup>x</sup> = 0 has no solutions and thus log(0) is undefined  \n",
    "Or simply no such number exist to satisfy e<sup>x</sup> = 0"
   ]
  },
  {
   "cell_type": "markdown",
   "id": "44c102c9",
   "metadata": {},
   "source": [
    "#### References:\n",
    "https://www.khanacademy.org/math/algebra2/x2ec2f6f830c9fb89:logs/x2ec2f6f830c9fb89:log-intro/a/intro-to-logarithms\n",
    "https://www.britannica.com/science/logarithm  \n",
    "https://meta.stackexchange.com/questions/226869/how-can-i-add-the-mathematical-symbol-for-power-like-x-2-to-a-question  \n",
    "https://stackoverflow.com/questions/33191744/how-to-add-new-line-in-markdown-presentation  \n"
   ]
  }
 ],
 "metadata": {
  "kernelspec": {
   "display_name": "Python 3 (ipykernel)",
   "language": "python",
   "name": "python3"
  },
  "language_info": {
   "codemirror_mode": {
    "name": "ipython",
    "version": 3
   },
   "file_extension": ".py",
   "mimetype": "text/x-python",
   "name": "python",
   "nbconvert_exporter": "python",
   "pygments_lexer": "ipython3",
   "version": "3.9.7"
  }
 },
 "nbformat": 4,
 "nbformat_minor": 5
}
