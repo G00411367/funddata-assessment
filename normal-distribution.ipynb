{
 "cells": [
  {
   "cell_type": "markdown",
   "id": "65a764cf",
   "metadata": {},
   "source": [
    "# Fundamentals of Data Analysis\n",
    "\n",
    "***\n"
   ]
  },
  {
   "cell_type": "markdown",
   "id": "19df2710",
   "metadata": {},
   "source": [
    "GG00411367 Ioan Domsa"
   ]
  },
  {
   "cell_type": "markdown",
   "id": "1cfc60b1",
   "metadata": {},
   "source": [
    "# Normal Distribution"
   ]
  },
  {
   "cell_type": "markdown",
   "id": "2ae625f2",
   "metadata": {},
   "source": [
    "![Picture NormalDistribution](images/Img_NormalDistrib.png)"
   ]
  },
  {
   "cell_type": "markdown",
   "id": "24a21eba",
   "metadata": {},
   "source": [
    "## What is Normal Distribution"
   ]
  },
  {
   "cell_type": "markdown",
   "id": "7590b20d",
   "metadata": {},
   "source": [
    "A normal distribution is a type of continuous probability distribution in which most data points cluster toward the middle of the range, while the rest taper off symmetrically toward either extreme. \n",
    "\n",
    "The middle of the range is also known as the mean of the distribution.\n",
    "\n",
    "The normal distribution is also known as a Gaussian distribution"
   ]
  },
  {
   "cell_type": "markdown",
   "id": "6e982764",
   "metadata": {},
   "source": [
    "## Shape\n",
    "\n",
    "A normal distribution is **symmetric** from the peak of the curve, where the mean is. \n",
    "\n",
    "The graph appears as bell-shaped where the mean, median, and mode are of the same values and appear at the peak of the curve."
   ]
  },
  {
   "cell_type": "markdown",
   "id": "a945b1f0",
   "metadata": {},
   "source": [
    "## Parameters\n",
    "\n",
    "\n",
    "**1. Mean**\n",
    "\n",
    "The mean is used as a measure of central tendency. It defines the location of the peak, and most of the data points are clustered around the mean.\n",
    "\n",
    "Any changes made to the value of the mean move the curve either to the left or right along the X-axis\n",
    "\n",
    "\n",
    "![Picture NormalDistribution](images/Img_ND-Mean.png)\n",
    "\n",
    "\n",
    "**2. Standard Deviation**\n",
    "\n",
    "The standard deviation measures the dispersion of the data points relative to the mean. It determines how far away from the mean the data points are positioned and represents the distance between the mean and the observations.\n",
    "\n",
    "Typically, a small standard deviation relative to the mean produces a steep curve, while a large standard deviation relative to the mean produces a flatter curve.\n",
    "\n",
    "![Picture NormalDistribution](images/Img_ND-Std.png)\n"
   ]
  },
  {
   "cell_type": "markdown",
   "id": "5be3241b",
   "metadata": {},
   "source": [
    "## Properties \n",
    "\n",
    "**It is symmetric**\n",
    "\n",
    "This means that the distribution curve can be divided in the middle to produce two equal halves\n",
    "\n",
    "**The mean, median, and mode are equal**\n",
    "\n",
    "The middle point of a normal distribution is the point with the maximum frequency, which means that it possesses the most observations of the variable.\n",
    "\n",
    "**Empirical rule**\n",
    "\n",
    "68.25% of all cases fall within +/- one standard deviation from the mean. \n",
    "\n",
    "95% of all cases fall within +/- two standard deviations from the mean. \n",
    "\n",
    "99% of all cases fall within +/- three standard deviations from the mean.\n",
    "\n",
    "**Skewness and kurtosis**\n",
    "\n",
    "Skewness represents a distribution's degree of symmetry. Since the normal distribution is perfectly symmetric, it has a skewness of zero.\n",
    "\n",
    "kurtosis measures the thickness of the tail ends relative to the tails of a normal distribution. For a normal distribution, kurtosis is always equal to 3.\n",
    "\n",
    "**The total area under the curve is 1.**"
   ]
  },
  {
   "cell_type": "markdown",
   "id": "654b7a27",
   "metadata": {},
   "source": [
    "## Formula\n",
    "\n",
    "\n",
    "$$ f(x) = \\frac{1}{\\sigma \\sqrt{2 \\pi }}e^{-\\frac{1}{2}(\\frac{(x - \\mu)}{\\sigma})^2} $$\n",
    "\n",
    "$$ f(x) = Probability Density Function $$\n",
    "\n",
    "$$ \\sigma = Standard \\:Deviation $$\n",
    "\n",
    "$$ \\mu = Mean $$"
   ]
  },
  {
   "cell_type": "markdown",
   "id": "72029f44",
   "metadata": {},
   "source": []
  },
  {
   "cell_type": "code",
   "execution_count": null,
   "id": "0f011b5e",
   "metadata": {},
   "outputs": [],
   "source": []
  },
  {
   "cell_type": "code",
   "execution_count": null,
   "id": "c9e70ca1",
   "metadata": {},
   "outputs": [],
   "source": []
  },
  {
   "cell_type": "code",
   "execution_count": null,
   "id": "020c919c",
   "metadata": {},
   "outputs": [],
   "source": []
  },
  {
   "cell_type": "code",
   "execution_count": null,
   "id": "b56312f5",
   "metadata": {},
   "outputs": [],
   "source": []
  },
  {
   "cell_type": "code",
   "execution_count": null,
   "id": "dd336e9f",
   "metadata": {},
   "outputs": [],
   "source": []
  },
  {
   "cell_type": "markdown",
   "id": "874a8152",
   "metadata": {},
   "source": [
    "###  References\n",
    "\n",
    "https://en.wikipedia.org/wiki/Normal_distribution\n",
    "\n",
    "https://www.techtarget.com/whatis/definition/normal-distribution\n",
    "\n",
    "https://corporatefinanceinstitute.com/resources/data-science/normal-distribution/\n",
    "\n",
    "http://rovdownloads.com/blog/understanding-and-interpreting-s-curves-and-cdf-curves-2/"
   ]
  }
 ],
 "metadata": {
  "kernelspec": {
   "display_name": "Python 3 (ipykernel)",
   "language": "python",
   "name": "python3"
  },
  "language_info": {
   "codemirror_mode": {
    "name": "ipython",
    "version": 3
   },
   "file_extension": ".py",
   "mimetype": "text/x-python",
   "name": "python",
   "nbconvert_exporter": "python",
   "pygments_lexer": "ipython3",
   "version": "3.9.7"
  }
 },
 "nbformat": 4,
 "nbformat_minor": 5
}
