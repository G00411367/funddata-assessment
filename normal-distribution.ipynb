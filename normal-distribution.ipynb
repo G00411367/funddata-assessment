{
 "cells": [
  {
   "cell_type": "markdown",
   "id": "65a764cf",
   "metadata": {},
   "source": [
    "# Fundamentals of Data Analysis\n",
    "\n",
    "***\n"
   ]
  },
  {
   "cell_type": "markdown",
   "id": "19df2710",
   "metadata": {},
   "source": [
    "GG00411367 Ioan Domsa"
   ]
  },
  {
   "cell_type": "markdown",
   "id": "1cfc60b1",
   "metadata": {},
   "source": [
    "# Normal Distribution"
   ]
  },
  {
   "cell_type": "markdown",
   "id": "2ae625f2",
   "metadata": {},
   "source": [
    "![Picture NormalDistribution](Images/Img_NormalDistrib.png)"
   ]
  },
  {
   "cell_type": "markdown",
   "id": "24a21eba",
   "metadata": {},
   "source": [
    "## What is Normal Distribution"
   ]
  },
  {
   "cell_type": "markdown",
   "id": "7590b20d",
   "metadata": {},
   "source": [
    "A normal distribution is a type of continuous probability distribution in which most data points cluster toward the middle of the range, while the rest taper off symmetrically toward either extreme. \n",
    "\n",
    "The middle of the range is also known as the mean of the distribution.\n",
    "\n",
    "The normal distribution is also known as a Gaussian distribution or probability bell curve. It is symmetric about the mean and indicates that values near the mean occur more frequently than the values that are farther away from the mean."
   ]
  },
  {
   "cell_type": "code",
   "execution_count": null,
   "id": "3ecc7a7b",
   "metadata": {},
   "outputs": [],
   "source": []
  }
 ],
 "metadata": {
  "kernelspec": {
   "display_name": "Python 3 (ipykernel)",
   "language": "python",
   "name": "python3"
  },
  "language_info": {
   "codemirror_mode": {
    "name": "ipython",
    "version": 3
   },
   "file_extension": ".py",
   "mimetype": "text/x-python",
   "name": "python",
   "nbconvert_exporter": "python",
   "pygments_lexer": "ipython3",
   "version": "3.9.7"
  }
 },
 "nbformat": 4,
 "nbformat_minor": 5
}
