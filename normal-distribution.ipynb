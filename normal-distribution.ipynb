{
 "cells": [
  {
   "cell_type": "markdown",
   "id": "65a764cf",
   "metadata": {},
   "source": [
    "# Fundamentals of Data Analysis\n",
    "\n",
    "***\n"
   ]
  },
  {
   "cell_type": "markdown",
   "id": "19df2710",
   "metadata": {},
   "source": [
    "GG00411367 Ioan Domsa"
   ]
  },
  {
   "cell_type": "markdown",
   "id": "1cfc60b1",
   "metadata": {},
   "source": [
    "# Normal Distribution"
   ]
  },
  {
   "cell_type": "markdown",
   "id": "2ae625f2",
   "metadata": {},
   "source": [
    "![Picture NormalDistribution](images/Img_NormalDistrib.png)"
   ]
  },
  {
   "cell_type": "markdown",
   "id": "24a21eba",
   "metadata": {},
   "source": [
    "## What is Normal Distribution"
   ]
  },
  {
   "cell_type": "markdown",
   "id": "7590b20d",
   "metadata": {},
   "source": [
    "A normal distribution is a type of continuous probability distribution in which most data points cluster toward the middle of the range, while the rest taper off symmetrically toward either extreme. \n",
    "\n",
    "The middle of the range is also known as the mean of the distribution.\n",
    "\n",
    "The normal distribution is also known as a Gaussian distribution"
   ]
  },
  {
   "cell_type": "markdown",
   "id": "6e982764",
   "metadata": {},
   "source": [
    "## Shape\n",
    "\n",
    "A normal distribution is **symmetric** from the peak of the curve, where the mean is. \n",
    "\n",
    "The graph appears as bell-shaped where the mean, median, and mode are of the same values and appear at the peak of the curve."
   ]
  },
  {
   "cell_type": "markdown",
   "id": "a945b1f0",
   "metadata": {},
   "source": [
    "## Parameters\n",
    "\n",
    "\n",
    "**1. Mean**\n",
    "\n",
    "The mean is used as a measure of central tendency. It defines the location of the peak, and most of the data points are clustered around the mean.\n",
    "\n",
    "Any changes made to the value of the mean move the curve either to the left or right along the X-axis\n",
    "\n",
    "\n",
    "![Picture NormalDistribution](images/Img_ND-Mean.png)\n",
    "\n",
    "\n",
    "**2. Standard Deviation**\n",
    "\n",
    "The standard deviation measures the dispersion of the data points relative to the mean. It determines how far away from the mean the data points are positioned and represents the distance between the mean and the observations.\n",
    "\n",
    "Typically, a small standard deviation relative to the mean produces a steep curve, while a large standard deviation relative to the mean produces a flatter curve.\n",
    "\n",
    "![Picture NormalDistribution](images/Img_ND-Std.png)\n"
   ]
  },
  {
   "cell_type": "markdown",
   "id": "5be3241b",
   "metadata": {},
   "source": [
    "## Properties \n",
    "\n",
    "**It is symmetric**\n",
    "\n",
    "This means that the distribution curve can be divided in the middle to produce two equal halves\n",
    "\n",
    "**The mean, median, and mode are equal**\n",
    "\n",
    "The middle point of a normal distribution is the point with the maximum frequency, which means that it possesses the most observations of the variable.\n",
    "\n",
    "**Empirical rule**\n",
    "\n",
    "68.25% of all cases fall within +/- one standard deviation from the mean. \n",
    "\n",
    "95% of all cases fall within +/- two standard deviations from the mean. \n",
    "\n",
    "99% of all cases fall within +/- three standard deviations from the mean.\n",
    "\n",
    "**Skewness and kurtosis**\n",
    "\n",
    "Skewness represents a distribution's degree of symmetry. Since the normal distribution is perfectly symmetric, it has a skewness of zero.\n",
    "\n",
    "kurtosis measures the thickness of the tail ends relative to the tails of a normal distribution. For a normal distribution, kurtosis is always equal to 3.\n",
    "\n",
    "**The total area under the curve is 1.**"
   ]
  },
  {
   "cell_type": "markdown",
   "id": "654b7a27",
   "metadata": {},
   "source": [
    "## Formula\n",
    "\n",
    "\n",
    "$ f(x) = \\frac{1}{\\sigma \\sqrt{2 \\pi }}e^{-\\frac{1}{2}(\\frac{(x - \\mu)}{\\sigma})^2} $\n",
    "\n",
    "$ f(x) = Probability \\:Density \\:Function $\n",
    "\n",
    "$ \\sigma = Standard \\:Deviation $\n",
    "\n",
    "$ \\mu = Mean $"
   ]
  },
  {
   "cell_type": "markdown",
   "id": "72029f44",
   "metadata": {},
   "source": [
    "## Mean, Median and Mode\n",
    "\n",
    "The mean median and mode are measurements of central tendency. In other words, it tells where the “middle” of a data set is. Each of these statistics defines the middle differently:\n",
    "\n",
    "1. The mean is the average of a data set. It is found by adding all of the numbers together and dividing by the number of items in the set.\n",
    "\n",
    "\n",
    "3. The median is the middle of the set of numbers. It is found by ordering the set from lowest to highest and finding the exact middle.\n",
    "\n",
    "\n",
    "3. The mode is the most common number in a data set."
   ]
  },
  {
   "cell_type": "markdown",
   "id": "74f828fe",
   "metadata": {},
   "source": [
    "### Calculate the Mean, Median and Mode with python libraries"
   ]
  },
  {
   "cell_type": "code",
   "execution_count": 4,
   "id": "17ebbbe7",
   "metadata": {},
   "outputs": [],
   "source": [
    "# Import libraries\n",
    "\n",
    "import numpy as np\n",
    "import scipy.stats as ss"
   ]
  },
  {
   "cell_type": "code",
   "execution_count": 6,
   "id": "c9e70ca1",
   "metadata": {},
   "outputs": [],
   "source": [
    "# example of dataset\n",
    "dataset = [2, 2, 3, 4, 2, 1, 6, 7, 18]"
   ]
  },
  {
   "cell_type": "markdown",
   "id": "aacf69cc",
   "metadata": {},
   "source": [
    "* Calculate the Mean by by adding all of the numbers together and dividing by the number of items\n",
    "\n",
    "Mean = (2+2+3+4+2+1+6+7+18)/9 = 5\n"
   ]
  },
  {
   "cell_type": "code",
   "execution_count": 12,
   "id": "116c8f31",
   "metadata": {},
   "outputs": [
    {
     "name": "stdout",
     "output_type": "stream",
     "text": [
      "Mean of the set is :5.0\n"
     ]
    }
   ],
   "source": [
    "# Mean with python\n",
    "\n",
    "mean = np.mean(dataset)\n",
    "print(\"Mean of the set is :\" f'{mean}')"
   ]
  },
  {
   "cell_type": "markdown",
   "id": "aaf9e6e7",
   "metadata": {},
   "source": [
    "* Calculate the Median. Ordonate the set:[1,2,2,2,3,4,6,7,18]\n",
    "\n",
    "Median = 3 as number 3 is in the middle of the set"
   ]
  },
  {
   "cell_type": "code",
   "execution_count": 16,
   "id": "b56312f5",
   "metadata": {},
   "outputs": [
    {
     "name": "stdout",
     "output_type": "stream",
     "text": [
      "Median of the set is :3.0\n"
     ]
    }
   ],
   "source": [
    "# Median with python\n",
    "\n",
    "median = np.median(dataset)\n",
    "print(\"Median of the set is :\" f'{median}')"
   ]
  },
  {
   "cell_type": "markdown",
   "id": "a8f61b81",
   "metadata": {},
   "source": [
    "* Calculate the Mode by finding the most common item in the dataset\n",
    "\n",
    "Mode = 2 as number 2 appears most often in the dataset"
   ]
  },
  {
   "cell_type": "code",
   "execution_count": 18,
   "id": "3b3876ae",
   "metadata": {},
   "outputs": [
    {
     "name": "stdout",
     "output_type": "stream",
     "text": [
      "Mede of the set is :[2]\n"
     ]
    }
   ],
   "source": [
    "# Mode with python\n",
    "\n",
    "mode = ss.mode(dataset)\n",
    "print(\"Mede of the set is :\" f'{mode[0]}')"
   ]
  },
  {
   "cell_type": "code",
   "execution_count": null,
   "id": "4a68d9c7",
   "metadata": {},
   "outputs": [],
   "source": []
  },
  {
   "cell_type": "code",
   "execution_count": null,
   "id": "17ced6ba",
   "metadata": {},
   "outputs": [],
   "source": []
  },
  {
   "cell_type": "code",
   "execution_count": null,
   "id": "1b4ab478",
   "metadata": {},
   "outputs": [],
   "source": []
  },
  {
   "cell_type": "code",
   "execution_count": null,
   "id": "a47097be",
   "metadata": {},
   "outputs": [],
   "source": []
  },
  {
   "cell_type": "markdown",
   "id": "1c722433",
   "metadata": {},
   "source": []
  },
  {
   "cell_type": "markdown",
   "id": "874a8152",
   "metadata": {},
   "source": [
    "###  References\n",
    "\n",
    "https://en.wikipedia.org/wiki/Normal_distribution\n",
    "\n",
    "https://www.techtarget.com/whatis/definition/normal-distribution\n",
    "\n",
    "https://corporatefinanceinstitute.com/resources/data-science/normal-distribution/\n",
    "\n",
    "http://rovdownloads.com/blog/understanding-and-interpreting-s-curves-and-cdf-curves-2/\n",
    "\n",
    "http://www.emerson.emory.edu/services/latex/latex_119.html\n",
    "\n",
    "https://www.codymd.com/left-align-latex-equation-in-jupyter-notebook/\n",
    "\n",
    "https://www.statisticshowto.com/probability-and-statistics/statistics-definitions/mean-median-mode/#mode\n",
    "\n",
    "https://www.w3schools.com/python/python_ml_mean_median_mode.asp#:~:text=Mean%2C%20Median%2C%20and%20Mode&text=In%20Machine%20Learning%20(and%20in,Mode%20%2D%20The%20most%20common%20value"
   ]
  }
 ],
 "metadata": {
  "kernelspec": {
   "display_name": "Python 3 (ipykernel)",
   "language": "python",
   "name": "python3"
  },
  "language_info": {
   "codemirror_mode": {
    "name": "ipython",
    "version": 3
   },
   "file_extension": ".py",
   "mimetype": "text/x-python",
   "name": "python",
   "nbconvert_exporter": "python",
   "pygments_lexer": "ipython3",
   "version": "3.9.7"
  }
 },
 "nbformat": 4,
 "nbformat_minor": 5
}
