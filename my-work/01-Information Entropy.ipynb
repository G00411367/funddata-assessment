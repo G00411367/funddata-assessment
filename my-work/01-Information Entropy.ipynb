{
 "cells": [
  {
   "cell_type": "markdown",
   "id": "f3c95003",
   "metadata": {},
   "source": [
    "### Entropy"
   ]
  },
  {
   "cell_type": "code",
   "execution_count": 1,
   "id": "ddd901db",
   "metadata": {},
   "outputs": [
    {
     "name": "stdout",
     "output_type": "stream",
     "text": [
      "1.0\n"
     ]
    }
   ],
   "source": [
    "import math\n",
    "\n",
    "print(-math.log(0.5, 2))\n"
   ]
  },
  {
   "cell_type": "code",
   "execution_count": 2,
   "id": "10ed9df6",
   "metadata": {},
   "outputs": [
    {
     "name": "stdout",
     "output_type": "stream",
     "text": [
      "0.8112781244591328\n"
     ]
    }
   ],
   "source": [
    "# [Probability of a 0, probability of a 1]\n",
    "p =[0.25, 0.75]\n",
    "\n",
    "H = -sum([p_i * math.log(p_i, 2) for p_i in p])\n",
    "\n",
    "print(H)\n"
   ]
  },
  {
   "cell_type": "markdown",
   "id": "2c5c8bb9",
   "metadata": {},
   "source": [
    "### Plotting"
   ]
  },
  {
   "cell_type": "code",
   "execution_count": 5,
   "id": "9a048324",
   "metadata": {
    "scrolled": true
   },
   "outputs": [
    {
     "data": {
      "text/plain": [
       "Text(0, 0.5, 'Entropy')"
      ]
     },
     "execution_count": 5,
     "metadata": {},
     "output_type": "execute_result"
    },
    {
     "data": {
      "image/png": "[encoded data removed]",
      "text/plain": [
       "<Figure size 1008x432 with 1 Axes>"
      ]
     },
     "metadata": {
      "needs_background": "light"
     },
     "output_type": "display_data"
    }
   ],
   "source": [
    "import matplotlib.pyplot as plt\n",
    "import numpy as np\n",
    "\n",
    "p_of_1 = np.linspace(0.01, 0.99, 1000)\n",
    "\n",
    "entropy = - (p_of_1 * np.log2(p_of_1) + (1.0 - p_of_1) * np.log2(1.0 - p_of_1))\n",
    "\n",
    "fig, ax = plt.subplots(figsize = (14, 6))\n",
    "ax.plot(p_of_1, entropy, color = '#ff791e')\n",
    "\n",
    "ax.set_xlabel('Probability the bit is 1, not 0')\n",
    "ax.set_ylabel('Entropy')\n"
   ]
  },
  {
   "cell_type": "markdown",
   "id": "3ce7ee67",
   "metadata": {},
   "source": [
    "### Fire Alarm"
   ]
  },
  {
   "cell_type": "code",
   "execution_count": 3,
   "id": "6239cfb7",
   "metadata": {},
   "outputs": [
    {
     "data": {
      "text/plain": [
       "525600"
      ]
     },
     "execution_count": 3,
     "metadata": {},
     "output_type": "execute_result"
    }
   ],
   "source": [
    "# Minutes in a year\n",
    "import math\n",
    "\n",
    "min_in_year = 365*24*60\n",
    "min_in_year"
   ]
  },
  {
   "cell_type": "code",
   "execution_count": 4,
   "id": "e6216478",
   "metadata": {},
   "outputs": [
    {
     "name": "stdout",
     "output_type": "stream",
     "text": [
      "1.9025875190258754e-05\n"
     ]
    }
   ],
   "source": [
    "# Probability of it screetching\n",
    "p_screetch = 10/525600\n",
    "print(p_screetch)"
   ]
  },
  {
   "cell_type": "code",
   "execution_count": 5,
   "id": "af4ec6f2",
   "metadata": {},
   "outputs": [
    {
     "data": {
      "text/plain": [
       "15.681677655209693"
      ]
     },
     "execution_count": 5,
     "metadata": {},
     "output_type": "execute_result"
    }
   ],
   "source": [
    "# Information content of a screetch\n",
    "-math.log(p_screetch, 2)"
   ]
  },
  {
   "cell_type": "code",
   "execution_count": 6,
   "id": "c45e37c2",
   "metadata": {},
   "outputs": [
    {
     "data": {
      "text/plain": [
       "2.744879690499961e-05"
      ]
     },
     "execution_count": 6,
     "metadata": {},
     "output_type": "execute_result"
    }
   ],
   "source": [
    "# Information content of a no screetch\n",
    "-math.log(1.0 - p_screetch, 2)"
   ]
  },
  {
   "cell_type": "code",
   "execution_count": 7,
   "id": "bcfc6909",
   "metadata": {},
   "outputs": [
    {
     "name": "stdout",
     "output_type": "stream",
     "text": [
      " 0.00032580591650950477 bits \n"
     ]
    }
   ],
   "source": [
    "# Entropy of the fire alarm as a source of information\n",
    "p = [p_screetch, 1.0 - p_screetch]\n",
    "entropy = -sum([p_i * math.log(p_i, 2) for p_i in p])\n",
    "\n",
    "print(f' {entropy} bits ')"
   ]
  },
  {
   "cell_type": "markdown",
   "id": "c808c869",
   "metadata": {},
   "source": [
    "### Pin Codes"
   ]
  },
  {
   "cell_type": "code",
   "execution_count": 8,
   "id": "c62a62f5",
   "metadata": {},
   "outputs": [
    {
     "data": {
      "text/plain": [
       "13.287712379549449"
      ]
     },
     "execution_count": 8,
     "metadata": {},
     "output_type": "execute_result"
    }
   ],
   "source": [
    "# A four digit PIN has 10000 possible values\n",
    "\n",
    "import math\n",
    "\n",
    "-math.log(1/10000.0, 2)"
   ]
  },
  {
   "cell_type": "code",
   "execution_count": 9,
   "id": "d6a7f918",
   "metadata": {},
   "outputs": [
    {
     "name": "stdout",
     "output_type": "stream",
     "text": [
      " 13.28771237954811 bits \n"
     ]
    }
   ],
   "source": [
    "# Entropy of a four digit Pin code\n",
    "p = [1.0 / 10000.0 for i in range(10000)]\n",
    "entropy = -sum([p_i * math.log(p_i, 2) for p_i in p])\n",
    "\n",
    "print(f' {entropy} bits ')"
   ]
  },
  {
   "cell_type": "code",
   "execution_count": 10,
   "id": "315f7a4f",
   "metadata": {},
   "outputs": [
    {
     "name": "stdout",
     "output_type": "stream",
     "text": [
      " 19.931568569559303 bits \n"
     ]
    }
   ],
   "source": [
    "# Entropy of a six digit Pin code\n",
    "p = [1.0 / 1000000.0 for i in range(1000000)]\n",
    "entropy = -sum([p_i * math.log(p_i, 2) for p_i in p])\n",
    "\n",
    "print(f' {entropy} bits ')"
   ]
  },
  {
   "cell_type": "code",
   "execution_count": null,
   "id": "0b784d9b",
   "metadata": {},
   "outputs": [],
   "source": []
  }
 ],
 "metadata": {
  "kernelspec": {
   "display_name": "Python 3 (ipykernel)",
   "language": "python",
   "name": "python3"
  },
  "language_info": {
   "codemirror_mode": {
    "name": "ipython",
    "version": 3
   },
   "file_extension": ".py",
   "mimetype": "text/x-python",
   "name": "python",
   "nbconvert_exporter": "python",
   "pygments_lexer": "ipython3",
   "version": "3.9.7"
  }
 },
 "nbformat": 4,
 "nbformat_minor": 5
}
