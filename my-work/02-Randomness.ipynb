{
 "cells": [
  {
   "cell_type": "markdown",
   "id": "e295a5ca",
   "metadata": {},
   "source": [
    "### Simulation a Coin Flip"
   ]
  },
  {
   "cell_type": "code",
   "execution_count": 1,
   "id": "56d8170d",
   "metadata": {},
   "outputs": [
    {
     "data": {
      "text/plain": [
       "0"
      ]
     },
     "execution_count": 1,
     "metadata": {},
     "output_type": "execute_result"
    }
   ],
   "source": [
    "# Flip a fair coin\n",
    "import numpy as np\n",
    "np.random.binomial(1, 0.5)"
   ]
  },
  {
   "cell_type": "markdown",
   "id": "13a84edc",
   "metadata": {},
   "source": [
    "### Repeated Flips"
   ]
  },
  {
   "cell_type": "code",
   "execution_count": 2,
   "id": "3da894a8",
   "metadata": {},
   "outputs": [
    {
     "data": {
      "text/plain": [
       "array([1, 1, 0, 0, 0, 0, 0, 0, 0, 0, 0, 1, 0, 0, 1, 0, 0, 0, 1, 1, 1, 0,\n",
       "       1, 1, 1, 1, 0, 0, 1, 1, 1, 1, 1, 1, 1, 0, 1, 0, 1, 1, 0, 1, 0, 1,\n",
       "       1, 1, 0, 1, 0, 0, 0, 1, 1, 1, 0, 1, 1, 0, 1, 0, 1, 0, 1, 1, 0, 1,\n",
       "       1, 1, 0, 1, 0, 1, 1, 1, 0, 0, 0, 1, 1, 1, 0, 1, 1, 0, 0, 1, 1, 1,\n",
       "       0, 1, 0, 1, 0, 0, 0, 1, 1, 0, 0, 1])"
      ]
     },
     "execution_count": 2,
     "metadata": {},
     "output_type": "execute_result"
    }
   ],
   "source": [
    "# Flip a fair coin 100 times\n",
    "np.random.binomial(1, 0.5, 100)"
   ]
  },
  {
   "cell_type": "code",
   "execution_count": 3,
   "id": "e113844f",
   "metadata": {},
   "outputs": [
    {
     "data": {
      "text/plain": [
       "56"
      ]
     },
     "execution_count": 3,
     "metadata": {},
     "output_type": "execute_result"
    }
   ],
   "source": [
    "# Flip a fair coin 100 times, giving only the total number of heads\n",
    "np.random.binomial(100, 0.5)"
   ]
  },
  {
   "cell_type": "markdown",
   "id": "3e363d14",
   "metadata": {},
   "source": [
    "### Twice 50/50"
   ]
  },
  {
   "cell_type": "code",
   "execution_count": 4,
   "id": "89ec3db7",
   "metadata": {},
   "outputs": [
    {
     "name": "stdout",
     "output_type": "stream",
     "text": [
      "[1 1 1 1 0 0 0 0 0 1]\n",
      "[0 1 0 0 1 1 0 1 1 0]\n",
      "[1 0 1 1 0 0 1 0 0 1]\n",
      " Total generated: 19\n"
     ]
    }
   ],
   "source": [
    "# Keep flipping coins until we get three examples of getting five heads in ten coins tosses\n",
    "\n",
    "# Number of examples\n",
    "N = 3\n",
    "\n",
    "# keep track of number of ararys generated\n",
    "total_no = 0\n",
    "\n",
    "# Keep trying util we get three examples\n",
    "while N > 0:\n",
    "    # Add 1 to total\n",
    "    total_no = total_no + 1\n",
    "    # Toss 10 coins\n",
    "    tosses = np.random.binomial(1, 0.5, 10)\n",
    "    # Check if we got five heads\n",
    "    if tosses.sum() == 5:\n",
    "        # if we got 5 heads, print the list of heads/tails\n",
    "        print(tosses)\n",
    "        # Reduce the number of examples left to find by 1\n",
    "        N = N - 1\n",
    "print(f' Total generated: {total_no}')\n"
   ]
  },
  {
   "cell_type": "markdown",
   "id": "170ffec4",
   "metadata": {},
   "source": [
    "### Counting Heads"
   ]
  },
  {
   "cell_type": "code",
   "execution_count": 5,
   "id": "27d83767",
   "metadata": {},
   "outputs": [
    {
     "data": {
      "text/plain": [
       "252"
      ]
     },
     "execution_count": 5,
     "metadata": {},
     "output_type": "execute_result"
    }
   ],
   "source": [
    "(10 * 9 * 8 * 7 * 6) // (5 * 4 * 3 * 2 * 1)"
   ]
  },
  {
   "cell_type": "code",
   "execution_count": 6,
   "id": "11fe2d79",
   "metadata": {
    "scrolled": true
   },
   "outputs": [
    {
     "name": "stdout",
     "output_type": "stream",
     "text": [
      "( 1, 2)\n",
      "( 1, 3)\n",
      "( 1, 4)\n",
      "( 1, 5)\n",
      "( 1, 6)\n",
      "( 1, 7)\n",
      "( 1, 8)\n",
      "( 1, 9)\n",
      "( 1,10)\n",
      "( 2, 1)\n",
      "( 2, 3)\n",
      "( 2, 4)\n",
      "( 2, 5)\n",
      "( 2, 6)\n",
      "( 2, 7)\n",
      "( 2, 8)\n",
      "( 2, 9)\n",
      "( 2,10)\n",
      "( 3, 1)\n",
      "( 3, 2)\n",
      "( 3, 4)\n",
      "( 3, 5)\n",
      "( 3, 6)\n",
      "( 3, 7)\n",
      "( 3, 8)\n",
      "( 3, 9)\n",
      "( 3,10)\n",
      "( 4, 1)\n",
      "( 4, 2)\n",
      "( 4, 3)\n",
      "( 4, 5)\n",
      "( 4, 6)\n",
      "( 4, 7)\n",
      "( 4, 8)\n",
      "( 4, 9)\n",
      "( 4,10)\n",
      "( 5, 1)\n",
      "( 5, 2)\n",
      "( 5, 3)\n",
      "( 5, 4)\n",
      "( 5, 6)\n",
      "( 5, 7)\n",
      "( 5, 8)\n",
      "( 5, 9)\n",
      "( 5,10)\n",
      "( 6, 1)\n",
      "( 6, 2)\n",
      "( 6, 3)\n",
      "( 6, 4)\n",
      "( 6, 5)\n",
      "( 6, 7)\n",
      "( 6, 8)\n",
      "( 6, 9)\n",
      "( 6,10)\n",
      "( 7, 1)\n",
      "( 7, 2)\n",
      "( 7, 3)\n",
      "( 7, 4)\n",
      "( 7, 5)\n",
      "( 7, 6)\n",
      "( 7, 8)\n",
      "( 7, 9)\n",
      "( 7,10)\n",
      "( 8, 1)\n",
      "( 8, 2)\n",
      "( 8, 3)\n",
      "( 8, 4)\n",
      "( 8, 5)\n",
      "( 8, 6)\n",
      "( 8, 7)\n",
      "( 8, 9)\n",
      "( 8,10)\n",
      "( 9, 1)\n",
      "( 9, 2)\n",
      "( 9, 3)\n",
      "( 9, 4)\n",
      "( 9, 5)\n",
      "( 9, 6)\n",
      "( 9, 7)\n",
      "( 9, 8)\n",
      "( 9,10)\n",
      "(10, 1)\n",
      "(10, 2)\n",
      "(10, 3)\n",
      "(10, 4)\n",
      "(10, 5)\n",
      "(10, 6)\n",
      "(10, 7)\n",
      "(10, 8)\n",
      "(10, 9)\n",
      "Total combinations is 90.\n"
     ]
    }
   ],
   "source": [
    "# Number of combinations \n",
    "no_combs = 0\n",
    "\n",
    "# Select the first position\n",
    "for first in [1, 2, 3, 4, 5, 6, 7, 8, 9, 10]:\n",
    "    #Select the position for the seccond\n",
    "    for second in [1, 2, 3, 4, 5, 6, 7, 8, 9, 10]:\n",
    "    # Make sure the first and seccond position are different\n",
    "        if not first == second:\n",
    "            # Print the combination\n",
    "            print (f'({first:2},{second:2})')\n",
    "            # Add one to number of combinations\n",
    "            no_combs = no_combs + 1\n",
    "        \n",
    "# Print total number of combinations\n",
    "print(f'Total combinations is {no_combs}.')\n",
    "        "
   ]
  },
  {
   "cell_type": "markdown",
   "id": "757ae4ea",
   "metadata": {},
   "source": [
    "### Calculating 2 to the power of 10 in Python"
   ]
  },
  {
   "cell_type": "code",
   "execution_count": 7,
   "id": "f5cf8782",
   "metadata": {},
   "outputs": [
    {
     "data": {
      "text/plain": [
       "1024"
      ]
     },
     "execution_count": 7,
     "metadata": {},
     "output_type": "execute_result"
    }
   ],
   "source": [
    "# In general there are 2 to the power of 10 possible results in flipping a coin 10 times\n",
    "2**10"
   ]
  },
  {
   "cell_type": "markdown",
   "id": "6da2b8c0",
   "metadata": {},
   "source": [
    "### What numpy does"
   ]
  },
  {
   "cell_type": "code",
   "execution_count": 8,
   "id": "9d11e2ce",
   "metadata": {},
   "outputs": [
    {
     "data": {
      "text/plain": [
       "0.0009765625"
      ]
     },
     "execution_count": 8,
     "metadata": {},
     "output_type": "execute_result"
    }
   ],
   "source": [
    "# The probability a given possibility is selected\n",
    "1.0 / 1024.0"
   ]
  },
  {
   "cell_type": "markdown",
   "id": "ce9e8bd9",
   "metadata": {},
   "source": [
    "### The Point"
   ]
  },
  {
   "cell_type": "code",
   "execution_count": 9,
   "id": "c0f4939b",
   "metadata": {},
   "outputs": [
    {
     "data": {
      "text/plain": [
       "0.24609375"
      ]
     },
     "execution_count": 9,
     "metadata": {},
     "output_type": "execute_result"
    }
   ],
   "source": [
    "# Probalilty of getting 5 heads when flipping a coin 10 times\n",
    "252 / 1024"
   ]
  },
  {
   "cell_type": "code",
   "execution_count": 10,
   "id": "d5a87f95",
   "metadata": {},
   "outputs": [
    {
     "data": {
      "text/plain": [
       "0.0009765625"
      ]
     },
     "execution_count": 10,
     "metadata": {},
     "output_type": "execute_result"
    }
   ],
   "source": [
    "# Probalilty of getting zero heads when flipping a coin 10 times\n",
    "1 / 1024"
   ]
  },
  {
   "cell_type": "code",
   "execution_count": 11,
   "id": "059a2925",
   "metadata": {},
   "outputs": [
    {
     "data": {
      "text/plain": [
       "252"
      ]
     },
     "execution_count": 11,
     "metadata": {},
     "output_type": "execute_result"
    }
   ],
   "source": [
    "import math\n",
    "\n",
    "math.comb(10, 5)"
   ]
  },
  {
   "cell_type": "code",
   "execution_count": 12,
   "id": "d0fc132a",
   "metadata": {},
   "outputs": [
    {
     "data": {
      "image/png": "[encoded data removed]",
      "text/plain": [
       "<Figure size 432x288 with 1 Axes>"
      ]
     },
     "metadata": {
      "needs_background": "light"
     },
     "output_type": "display_data"
    }
   ],
   "source": [
    "# Plotting\n",
    "import matplotlib.pyplot as plt\n",
    "\n",
    "# The number of coins we will flip. ONLY FLIP ONCE\n",
    "coins = 10\n",
    "\n",
    "# The numbers from 0 to 10 inclusive\n",
    "x = list(range(coins + 1))\n",
    "\n",
    "# The number of ways of selection i things for 10\n",
    "y = [math.comb(coins, i) for i in x]\n",
    "         \n",
    "# Display x and y as a bar chart\n",
    "plt.bar(x, y);\n",
    "\n",
    "# print(x)\n",
    "# The bar chart will display:\n",
    "# on x the possible outcomes 0, 1, 2, ..10, i.e 0 heads, 1 head, etc. 10 heads \n",
    "# on y probability of the outcome, i.e prob 1 to get 0 heads, prob 252 to get 5 heads, etc."
   ]
  },
  {
   "cell_type": "markdown",
   "id": "52a340fb",
   "metadata": {},
   "source": [
    "### Testing numpy"
   ]
  },
  {
   "cell_type": "code",
   "execution_count": 13,
   "id": "2b39bf31",
   "metadata": {},
   "outputs": [
    {
     "data": {
      "image/png": "[encoded data removed]",
      "text/plain": [
       "<Figure size 432x288 with 1 Axes>"
      ]
     },
     "metadata": {
      "needs_background": "light"
     },
     "output_type": "display_data"
    }
   ],
   "source": [
    "# The number of coins we are to flip\n",
    "coins = 10\n",
    "\n",
    "# Number of trials\n",
    "trials = 10000\n",
    "\n",
    "# Run the trials\n",
    "heads = np.random.binomial(coins, 0.5, trials)\n",
    "\n",
    "# Count the unique value in return list\n",
    "vals, counts = np.unique(heads, return_counts=True)\n",
    "\n",
    "# Plot retutn list in a histogram\n",
    "plt.bar(vals, counts); \n"
   ]
  },
  {
   "cell_type": "code",
   "execution_count": 14,
   "id": "32deda78",
   "metadata": {},
   "outputs": [
    {
     "data": {
      "text/plain": [
       "array([3, 5, 2, ..., 6, 3, 3])"
      ]
     },
     "execution_count": 14,
     "metadata": {},
     "output_type": "execute_result"
    }
   ],
   "source": [
    "heads = np.random.binomial(coins, 0.5, trials)\n",
    "heads"
   ]
  },
  {
   "cell_type": "code",
   "execution_count": 15,
   "id": "496e17bb",
   "metadata": {},
   "outputs": [
    {
     "data": {
      "text/plain": [
       "(array([ 0,  1,  2,  3,  4,  5,  6,  7,  8,  9, 10]),\n",
       " array([  10,   96,  426, 1175, 2030, 2442, 2104, 1162,  439,  109,    7],\n",
       "       dtype=int64))"
      ]
     },
     "execution_count": 15,
     "metadata": {},
     "output_type": "execute_result"
    }
   ],
   "source": [
    "np.unique(heads, return_counts=True)"
   ]
  },
  {
   "cell_type": "markdown",
   "id": "4b8b6d8b",
   "metadata": {},
   "source": [
    "### Distribution"
   ]
  },
  {
   "cell_type": "code",
   "execution_count": 16,
   "id": "8c7b37de",
   "metadata": {},
   "outputs": [
    {
     "data": {
      "image/png": "[encoded data removed]",
      "text/plain": [
       "<Figure size 432x288 with 1 Axes>"
      ]
     },
     "metadata": {
      "needs_background": "light"
     },
     "output_type": "display_data"
    }
   ],
   "source": [
    "# The number of coins we are to flip\n",
    "coins = 1\n",
    "\n",
    "# Number of trials\n",
    "trials = 10000\n",
    "\n",
    "# Run the trials\n",
    "heads = np.random.binomial(coins, 0.5, trials)\n",
    "\n",
    "# Count the unique value in return list\n",
    "vals, counts = np.unique(heads, return_counts=True)\n",
    "\n",
    "# Plot retutn list in a histogram\n",
    "plt.bar(vals, counts); "
   ]
  },
  {
   "cell_type": "code",
   "execution_count": 17,
   "id": "02d85912",
   "metadata": {},
   "outputs": [
    {
     "data": {
      "image/png": "[encoded data removed]",
      "text/plain": [
       "<Figure size 432x288 with 1 Axes>"
      ]
     },
     "metadata": {
      "needs_background": "light"
     },
     "output_type": "display_data"
    }
   ],
   "source": [
    "# The number of coins we are to flip\n",
    "coins = 10\n",
    "\n",
    "# Number of trials\n",
    "trials = 10000\n",
    "\n",
    "# Run the trials\n",
    "heads = np.random.binomial(coins, 0.5, trials)\n",
    "\n",
    "# Count the unique value in return list\n",
    "vals, counts = np.unique(heads, return_counts=True)\n",
    "\n",
    "# Plot retutn list in a histogram\n",
    "plt.bar(vals, counts); "
   ]
  },
  {
   "cell_type": "code",
   "execution_count": 18,
   "id": "91476a06",
   "metadata": {},
   "outputs": [
    {
     "name": "stdout",
     "output_type": "stream",
     "text": [
      "[1 0 0 1] 9\n"
     ]
    }
   ],
   "source": [
    "# The number of possible outcomes \n",
    "N = 11\n",
    "\n",
    "# What is the next biger power of 2? It is 16\n",
    "B = 4\n",
    "\n",
    "# Flip B coins\n",
    "flips = np.random.binomial(1, 0.5, B)\n",
    "\n",
    "# Convert that to binary\n",
    "number = 0\n",
    "for i in range(len(flips)):\n",
    "    number = number + flips[i] * 2**i\n",
    "\n",
    "# Print the flips and the decimal number\n",
    "print(flips, number)"
   ]
  },
  {
   "cell_type": "code",
   "execution_count": 19,
   "id": "9d9ceccb",
   "metadata": {},
   "outputs": [],
   "source": [
    "# Make a function to generate and convert coin flips to integer\n",
    "def gen_number(B=4):\n",
    "    # Flip B coins\n",
    "    flips = np.random.binomial(1, 0.5, B)\n",
    "    # Convert that to binary\n",
    "    number = 0\n",
    "    for i in range(len(flips)):\n",
    "        number = number + flips[i] * 2**i\n",
    "    # Return the number\n",
    "    return number"
   ]
  },
  {
   "cell_type": "code",
   "execution_count": 20,
   "id": "3e3336cb",
   "metadata": {},
   "outputs": [
    {
     "data": {
      "text/plain": [
       "6"
      ]
     },
     "execution_count": 20,
     "metadata": {},
     "output_type": "execute_result"
    }
   ],
   "source": [
    "# Test the function\n",
    "gen_number()"
   ]
  },
  {
   "cell_type": "code",
   "execution_count": 21,
   "id": "d82b4030",
   "metadata": {},
   "outputs": [
    {
     "data": {
      "image/png": "[encoded data removed]",
      "text/plain": [
       "<Figure size 432x288 with 1 Axes>"
      ]
     },
     "metadata": {
      "needs_background": "light"
     },
     "output_type": "display_data"
    }
   ],
   "source": [
    "# Run the function seval times\n",
    "\n",
    "# Number of outcomes\n",
    "no_outcomes = 10000\n",
    "\n",
    "# Generate outcomes\n",
    "outcomes = [gen_number() for i in range(no_outcomes)]\n",
    "\n",
    "# Plot the counts of outcomes\n",
    "# Count the unique value in return list\n",
    "vals, counts = np.unique(outcomes, return_counts=True)\n",
    "\n",
    "# Plot retutn list in a histogram (technically a bar chart)\n",
    "plt.bar(vals, counts); "
   ]
  },
  {
   "cell_type": "markdown",
   "id": "7a1dd14c",
   "metadata": {},
   "source": [
    "Possible outcomes in flipping for coins\n",
    "\n",
    "use 0 for tails and 1 for heads\n",
    "\n",
    "0000, 0001, 0010, 0011, 0100, 0101, 0110, 0111, 1000, 1001, 1010, 1011, 1100, 1101, 1110, 1111\n",
    "\n",
    "Each of these are equaly likely. \n",
    "\n",
    "Note we are not cointing the number of heads here\n",
    "\n",
    "we are interested in the sequence of heads and tails\n",
    "\n",
    "what we did above is treat the sequence of 0's and 1's as numbers written in binary\n",
    "\n",
    "Note, for convinience, the left most bit was least significant"
   ]
  },
  {
   "cell_type": "code",
   "execution_count": 22,
   "id": "225fea32",
   "metadata": {},
   "outputs": [
    {
     "data": {
      "image/png": "[encoded data removed]",
      "text/plain": [
       "<Figure size 432x288 with 1 Axes>"
      ]
     },
     "metadata": {
      "needs_background": "light"
     },
     "output_type": "display_data"
    }
   ],
   "source": [
    "# Run the function seval times\n",
    "\n",
    "# Number of outcomes\n",
    "no_outcomes = 10000\n",
    "\n",
    "# Generate outcomes\n",
    "outcomes = []\n",
    "while len(outcomes) < no_outcomes:\n",
    "    next_number = gen_number()\n",
    "    if next_number <=10:\n",
    "        outcomes.append(next_number)\n",
    "    \n",
    "# Plot the counts of outcomes\n",
    "# Count the unique value in return list\n",
    "vals, counts = np.unique(outcomes, return_counts=True)\n",
    "\n",
    "# Plot retutn list in a histogram (technically a bar chart)\n",
    "plt.bar(vals, counts); "
   ]
  },
  {
   "cell_type": "code",
   "execution_count": 23,
   "id": "cf1786bf",
   "metadata": {},
   "outputs": [
    {
     "data": {
      "image/png": "[encoded data removed]",
      "text/plain": [
       "<Figure size 432x288 with 1 Axes>"
      ]
     },
     "metadata": {
      "needs_background": "light"
     },
     "output_type": "display_data"
    }
   ],
   "source": [
    "# Run the function seval times\n",
    "\n",
    "# Number of outcomes\n",
    "no_outcomes = 10000\n",
    "\n",
    "# Generate outcomes\n",
    "outcomes = []\n",
    "while len(outcomes) < no_outcomes:\n",
    "    next_number = gen_number()\n",
    "    if 1 <= next_number and next_number <=10:\n",
    "        outcomes.append(next_number)\n",
    "    \n",
    "# Plot the counts of outcomes\n",
    "# Count the unique value in return list\n",
    "vals, counts = np.unique(outcomes, return_counts=True)\n",
    "\n",
    "# Plot retutn list in a histogram (technically a bar chart)\n",
    "plt.bar(vals, counts); "
   ]
  },
  {
   "cell_type": "markdown",
   "id": "8f67d0f9",
   "metadata": {},
   "source": [
    "### Random Distribution in numpy"
   ]
  },
  {
   "cell_type": "code",
   "execution_count": 24,
   "id": "c70bf9fb",
   "metadata": {},
   "outputs": [],
   "source": [
    "# https://numpy.org/doc/stable/reference/random/index.html\n",
    "\n",
    "# Create a new instance of a random number generator\n",
    "rng = np.random.default_rng()"
   ]
  },
  {
   "cell_type": "code",
   "execution_count": 25,
   "id": "b19ef4fb",
   "metadata": {},
   "outputs": [
    {
     "data": {
      "text/plain": [
       "array([-1.19240321, -0.12147208,  1.34046507,  0.67630984,  0.5816016 ,\n",
       "        1.34244731,  0.47473176, -2.04509428,  0.86996289,  0.26032483])"
      ]
     },
     "execution_count": 25,
     "metadata": {},
     "output_type": "execute_result"
    }
   ],
   "source": [
    "vals = rng.standard_normal(10)\n",
    "vals"
   ]
  },
  {
   "cell_type": "code",
   "execution_count": 26,
   "id": "ad2efc9c",
   "metadata": {},
   "outputs": [
    {
     "data": {
      "text/plain": [
       "array([ 0.09649286,  0.87544643, -0.90780857, -0.29871543,  0.23205085,\n",
       "        1.35090963, -1.96139352,  1.02847874,  0.35523099,  1.24675129])"
      ]
     },
     "execution_count": 26,
     "metadata": {},
     "output_type": "execute_result"
    }
   ],
   "source": [
    "more_vals = rng.standard_normal(10)\n",
    "more_vals"
   ]
  },
  {
   "cell_type": "code",
   "execution_count": 27,
   "id": "125cc32d",
   "metadata": {},
   "outputs": [],
   "source": [
    "rng = np.random.default_rng(0)"
   ]
  },
  {
   "cell_type": "code",
   "execution_count": 28,
   "id": "bb75f4fd",
   "metadata": {},
   "outputs": [
    {
     "data": {
      "text/plain": [
       "array([ 0.12573022, -0.13210486,  0.64042265,  0.10490012, -0.53566937,\n",
       "        0.36159505,  1.30400005,  0.94708096, -0.70373524, -1.26542147])"
      ]
     },
     "execution_count": 28,
     "metadata": {},
     "output_type": "execute_result"
    }
   ],
   "source": [
    "vals = rng.standard_normal(10)\n",
    "vals"
   ]
  },
  {
   "cell_type": "markdown",
   "id": "5fec0fcc",
   "metadata": {},
   "source": [
    "### Standard Normal"
   ]
  },
  {
   "cell_type": "code",
   "execution_count": 36,
   "id": "b429af73",
   "metadata": {},
   "outputs": [
    {
     "data": {
      "text/plain": [
       "array([ 0.12573022, -0.13210486,  0.64042265, ..., -0.4163666 ,\n",
       "       -1.26630051,  1.0312306 ])"
      ]
     },
     "execution_count": 36,
     "metadata": {},
     "output_type": "execute_result"
    }
   ],
   "source": [
    "# create new seded random number generator\n",
    "rng = np.random.default_rng(0)\n",
    "# Generate 1000 nmbers on a standard normal distribution\n",
    "samples = rng.standard_normal(10000)\n",
    "samples"
   ]
  },
  {
   "cell_type": "code",
   "execution_count": 35,
   "id": "ca840c50",
   "metadata": {},
   "outputs": [
    {
     "data": {
      "text/plain": [
       "(array([  1.,   1.,   0.,   0.,   0.,   0.,   1.,   2.,   2.,   2.,   3.,\n",
       "          0.,   6.,   6.,  10.,   7.,   6.,  12.,  21.,   8.,  15.,  20.,\n",
       "         21.,  26.,  33.,  36.,  44.,  56.,  49.,  51.,  74.,  93.,  84.,\n",
       "         97., 103., 148., 144., 147., 182., 187., 189., 200., 233., 241.,\n",
       "        244., 266., 278., 233., 292., 316., 298., 296., 283., 249., 270.,\n",
       "        290., 273., 279., 254., 260., 265., 254., 225., 231., 204., 194.,\n",
       "        194., 179., 131., 153., 138., 112., 100.,  82.,  91.,  65.,  57.,\n",
       "         62.,  52.,  53.,  30.,  30.,  26.,  25.,  24.,  21.,  12.,  10.,\n",
       "          8.,  10.,   1.,   7.,   0.,   4.,   3.,   3.,   1.,   0.,   0.,\n",
       "          1.]),\n",
       " array([-3.89942173, -3.82560914, -3.75179655, -3.67798396, -3.60417137,\n",
       "        -3.53035878, -3.45654619, -3.3827336 , -3.30892101, -3.23510842,\n",
       "        -3.16129583, -3.08748324, -3.01367065, -2.93985806, -2.86604547,\n",
       "        -2.79223288, -2.7184203 , -2.64460771, -2.57079512, -2.49698253,\n",
       "        -2.42316994, -2.34935735, -2.27554476, -2.20173217, -2.12791958,\n",
       "        -2.05410699, -1.9802944 , -1.90648181, -1.83266922, -1.75885663,\n",
       "        -1.68504404, -1.61123145, -1.53741886, -1.46360627, -1.38979368,\n",
       "        -1.31598109, -1.2421685 , -1.16835591, -1.09454332, -1.02073073,\n",
       "        -0.94691814, -0.87310555, -0.79929296, -0.72548037, -0.65166778,\n",
       "        -0.57785519, -0.5040426 , -0.43023002, -0.35641743, -0.28260484,\n",
       "        -0.20879225, -0.13497966, -0.06116707,  0.01264552,  0.08645811,\n",
       "         0.1602707 ,  0.23408329,  0.30789588,  0.38170847,  0.45552106,\n",
       "         0.52933365,  0.60314624,  0.67695883,  0.75077142,  0.82458401,\n",
       "         0.8983966 ,  0.97220919,  1.04602178,  1.11983437,  1.19364696,\n",
       "         1.26745955,  1.34127214,  1.41508473,  1.48889732,  1.56270991,\n",
       "         1.6365225 ,  1.71033509,  1.78414768,  1.85796026,  1.93177285,\n",
       "         2.00558544,  2.07939803,  2.15321062,  2.22702321,  2.3008358 ,\n",
       "         2.37464839,  2.44846098,  2.52227357,  2.59608616,  2.66989875,\n",
       "         2.74371134,  2.81752393,  2.89133652,  2.96514911,  3.0389617 ,\n",
       "         3.11277429,  3.18658688,  3.26039947,  3.33421206,  3.40802465,\n",
       "         3.48183724]),\n",
       " <BarContainer object of 100 artists>)"
      ]
     },
     "execution_count": 35,
     "metadata": {},
     "output_type": "execute_result"
    },
    {
     "data": {
      "image/png": "[encoded data removed]",
      "text/plain": [
       "<Figure size 432x288 with 1 Axes>"
      ]
     },
     "metadata": {
      "needs_background": "light"
     },
     "output_type": "display_data"
    }
   ],
   "source": [
    "# Create a figure\n",
    "fig, ax = plt.subplots()\n",
    "\n",
    "# Create a histogram\n",
    "ax.hist(samples, bins = 100)"
   ]
  },
  {
   "cell_type": "code",
   "execution_count": null,
   "id": "87a76aef",
   "metadata": {},
   "outputs": [],
   "source": []
  }
 ],
 "metadata": {
  "kernelspec": {
   "display_name": "Python 3 (ipykernel)",
   "language": "python",
   "name": "python3"
  },
  "language_info": {
   "codemirror_mode": {
    "name": "ipython",
    "version": 3
   },
   "file_extension": ".py",
   "mimetype": "text/x-python",
   "name": "python",
   "nbconvert_exporter": "python",
   "pygments_lexer": "ipython3",
   "version": "3.9.7"
  }
 },
 "nbformat": 4,
 "nbformat_minor": 5
}
